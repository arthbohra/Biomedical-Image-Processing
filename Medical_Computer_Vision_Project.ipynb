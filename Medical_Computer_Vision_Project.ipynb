{
  "nbformat": 4,
  "nbformat_minor": 0,
  "metadata": {
    "colab": {
      "provenance": [],
      "collapsed_sections": [],
      "include_colab_link": true
    },
    "kernelspec": {
      "name": "python3",
      "display_name": "Python 3"
    },
    "language_info": {
      "name": "python"
    }
  },
  "cells": [
    {
      "cell_type": "markdown",
      "metadata": {
        "id": "view-in-github",
        "colab_type": "text"
      },
      "source": [
        "<a href=\"https://colab.research.google.com/github/arthbohra/Biomedical-Image-Processing/blob/main/Medical_Computer_Vision_Project.ipynb\" target=\"_parent\"><img src=\"https://colab.research.google.com/assets/colab-badge.svg\" alt=\"Open In Colab\"/></a>"
      ]
    },
    {
      "cell_type": "markdown",
      "source": [
        "**PIP Install Statements**"
      ],
      "metadata": {
        "id": "VdJFZOG_tAgO"
      }
    },
    {
      "cell_type": "code",
      "source": [
        "!pip install firebase\n",
        "!pip install gcloud\n",
        "!pip install sseclient\n",
        "!pip install pycrypto\n",
        "!pip install requests-toolbelt\n",
        "!pip install python_jwt"
      ],
      "metadata": {
        "id": "JiUWpXecq-0I"
      },
      "execution_count": null,
      "outputs": []
    },
    {
      "cell_type": "markdown",
      "source": [
        "**Mounting Google Drive**"
      ],
      "metadata": {
        "id": "3Ttq9RY3tMSf"
      }
    },
    {
      "cell_type": "code",
      "execution_count": 2,
      "metadata": {
        "id": "xepPB7Rn86sT",
        "colab": {
          "base_uri": "https://localhost:8080/"
        },
        "outputId": "bdd05dc3-16c9-4bfd-e4b9-70a30e394f11"
      },
      "outputs": [
        {
          "output_type": "stream",
          "name": "stdout",
          "text": [
            "Mounted at /content/drive\n"
          ]
        }
      ],
      "source": [
        "from google.colab import drive\n",
        "drive.mount('/content/drive')"
      ]
    },
    {
      "cell_type": "code",
      "source": [
        "import json\n",
        "import os\n",
        "import configparser\n",
        "import random \n",
        "from PIL import Image"
      ],
      "metadata": {
        "id": "k3wprc7rs-sz"
      },
      "execution_count": 13,
      "outputs": []
    },
    {
      "cell_type": "code",
      "source": [
        "path = ('/content/drive/MyDrive/disc1')\n",
        "patients = []\n",
        "raw_images = []\n",
        "text_files = []\n",
        "for filename in os.listdir(path):\n",
        "  f = os.path.join(path, filename)\n",
        "  if (os.path.isfile(f) != True):\n",
        "    patients.append(f)\n",
        "for patient in patients:\n",
        "  for filename in os.listdir(patient):\n",
        "    f = os.path.join(patient, filename)\n",
        "    if f.endswith('txt'):\n",
        "      text_files.append(f)\n",
        "    elif \"RAW\" in f:\n",
        "      for images in os.listdir(f):\n",
        "        g = os.path.join(f, images)\n",
        "        if g.endswith('gif'):\n",
        "          raw_images.append(g)"
      ],
      "metadata": {
        "id": "FGjNcXn2Is10"
      },
      "execution_count": 12,
      "outputs": []
    },
    {
      "cell_type": "code",
      "source": [],
      "metadata": {
        "id": "eh-QnMXpBHvS"
      },
      "execution_count": null,
      "outputs": []
    }
  ]
}